{
  "nbformat": 4,
  "nbformat_minor": 0,
  "metadata": {
    "colab": {
      "provenance": []
    },
    "kernelspec": {
      "name": "python3",
      "display_name": "Python 3"
    },
    "language_info": {
      "name": "python"
    }
  },
  "cells": [
    {
      "cell_type": "code",
      "execution_count": null,
      "metadata": {
        "id": "jEWep1pmTOs5"
      },
      "outputs": [],
      "source": [
        "import pandas as pd\n"
      ]
    },
    {
      "cell_type": "code",
      "source": [
        "df =  pd.read_csv('Sales.csv')\n",
        "print(df.head())\n",
        "print(\"\\n\", df.dtypes)"
      ],
      "metadata": {
        "colab": {
          "base_uri": "https://localhost:8080/"
        },
        "id": "TcvosdhFTbbU",
        "outputId": "574615d6-02b4-439e-8c20-946e58819d58"
      },
      "execution_count": null,
      "outputs": [
        {
          "output_type": "stream",
          "name": "stdout",
          "text": [
            "   OrderNumber Sales Channel WarehouseCode ProcuredDate   OrderDate  \\\n",
            "0  SO - 000101      In-Store  WARE-UHY1004   31-12-2017  31-05-2018   \n",
            "1  SO - 000102        Online  WARE-NMK1003   31-12-2017  31-05-2018   \n",
            "2  SO - 000103   Distributor  WARE-UHY1004   31-12-2017  31-05-2018   \n",
            "3  SO - 000104     Wholesale  WARE-NMK1003   31-12-2017  31-05-2018   \n",
            "4  SO - 000105   Distributor  WARE-NMK1003   10-04-2018  31-05-2018   \n",
            "\n",
            "     ShipDate DeliveryDate CurrencyCode  _SalesTeamID  _CustomerID  _StoreID  \\\n",
            "0  14-06-2018   19-06-2018          USD             6           15       259   \n",
            "1  22-06-2018   02-07-2018          USD            14           20       196   \n",
            "2  21-06-2018   01-07-2018          USD            21           16       213   \n",
            "3  02-06-2018   07-06-2018          USD            28           48       107   \n",
            "4  16-06-2018   26-06-2018          USD            22           49       111   \n",
            "\n",
            "   _ProductID  Order Quantity  Discount Applied Unit Price Unit Cost  \n",
            "0          12               5             0.075   1,963.10  1,001.18  \n",
            "1          27               3             0.075   3,939.60  3,348.66  \n",
            "2          16               1             0.050   1,775.50    781.22  \n",
            "3          23               8             0.075   2,324.90  1,464.69  \n",
            "4          26               8             0.100   1,822.40  1,476.14  \n",
            "\n",
            " OrderNumber          object\n",
            "Sales Channel        object\n",
            "WarehouseCode        object\n",
            "ProcuredDate         object\n",
            "OrderDate            object\n",
            "ShipDate             object\n",
            "DeliveryDate         object\n",
            "CurrencyCode         object\n",
            "_SalesTeamID          int64\n",
            "_CustomerID           int64\n",
            "_StoreID              int64\n",
            "_ProductID            int64\n",
            "Order Quantity        int64\n",
            "Discount Applied    float64\n",
            "Unit Price           object\n",
            "Unit Cost            object\n",
            "dtype: object\n"
          ]
        }
      ]
    },
    {
      "cell_type": "code",
      "source": [
        "# List of date columns\n",
        "date_columns = ['ProcuredDate', 'OrderDate', 'ShipDate', 'DeliveryDate']\n",
        "\n",
        "# Convert dates\n",
        "for col in date_columns:\n",
        "    # First try to convert using the specific format\n",
        "    df[col] = pd.to_datetime(df[col], format='%d-%m-%Y', errors='coerce')\n",
        "\n",
        "# Check for any NaT values and handle them if necessary\n",
        "for col in date_columns:\n",
        "    if df[col].isnull().any():\n",
        "        print(f\"Warning: {col} contains invalid date entries and has been set to NaT.\")\n",
        "\n",
        "# Standardize to 'YYYY-MM-DD'\n",
        "for col in date_columns:\n",
        "    df[col] = df[col].dt.strftime('%Y-%m-%d')\n",
        "\n",
        "# Display the updated DataFrame\n",
        "print(df[date_columns])\n"
      ],
      "metadata": {
        "colab": {
          "base_uri": "https://localhost:8080/"
        },
        "id": "E6_asgivby0S",
        "outputId": "26db7797-90cb-486f-c8fc-95323f87114c"
      },
      "execution_count": null,
      "outputs": [
        {
          "output_type": "stream",
          "name": "stdout",
          "text": [
            "     ProcuredDate   OrderDate    ShipDate DeliveryDate\n",
            "0      2017-12-31  2018-05-31  2018-06-14   2018-06-19\n",
            "1      2017-12-31  2018-05-31  2018-06-22   2018-07-02\n",
            "2      2017-12-31  2018-05-31  2018-06-21   2018-07-01\n",
            "3      2017-12-31  2018-05-31  2018-06-02   2018-06-07\n",
            "4      2018-04-10  2018-05-31  2018-06-16   2018-06-26\n",
            "...           ...         ...         ...          ...\n",
            "7986   2020-09-26  2020-12-30  2021-01-07   2021-01-14\n",
            "7987   2020-09-26  2020-12-30  2021-01-02   2021-01-04\n",
            "7988   2020-09-26  2020-12-30  2021-01-23   2021-01-26\n",
            "7989   2020-09-26  2020-12-30  2021-01-20   2021-01-25\n",
            "7990   2020-09-26  2020-12-30  2021-01-13   2021-01-19\n",
            "\n",
            "[7991 rows x 4 columns]\n"
          ]
        }
      ]
    },
    {
      "cell_type": "code",
      "source": [
        "print(df.head())\n",
        "print(df.dtypes)"
      ],
      "metadata": {
        "colab": {
          "base_uri": "https://localhost:8080/"
        },
        "id": "3WDThyDUWfIZ",
        "outputId": "fa2b4adb-2ea8-461e-ed7f-9d3116ad5571"
      },
      "execution_count": null,
      "outputs": [
        {
          "output_type": "stream",
          "name": "stdout",
          "text": [
            "   OrderNumber Sales Channel WarehouseCode ProcuredDate   OrderDate  \\\n",
            "0  SO - 000101      In-Store  WARE-UHY1004   2017-12-31  2018-05-31   \n",
            "1  SO - 000102        Online  WARE-NMK1003   2017-12-31  2018-05-31   \n",
            "2  SO - 000103   Distributor  WARE-UHY1004   2017-12-31  2018-05-31   \n",
            "3  SO - 000104     Wholesale  WARE-NMK1003   2017-12-31  2018-05-31   \n",
            "4  SO - 000105   Distributor  WARE-NMK1003   2018-04-10  2018-05-31   \n",
            "\n",
            "     ShipDate DeliveryDate CurrencyCode  _SalesTeamID  _CustomerID  _StoreID  \\\n",
            "0  2018-06-14   2018-06-19          USD             6           15       259   \n",
            "1  2018-06-22   2018-07-02          USD            14           20       196   \n",
            "2  2018-06-21   2018-07-01          USD            21           16       213   \n",
            "3  2018-06-02   2018-06-07          USD            28           48       107   \n",
            "4  2018-06-16   2018-06-26          USD            22           49       111   \n",
            "\n",
            "   _ProductID  Order Quantity  Discount Applied Unit Price Unit Cost  \n",
            "0          12               5             0.075   1,963.10  1,001.18  \n",
            "1          27               3             0.075   3,939.60  3,348.66  \n",
            "2          16               1             0.050   1,775.50    781.22  \n",
            "3          23               8             0.075   2,324.90  1,464.69  \n",
            "4          26               8             0.100   1,822.40  1,476.14  \n",
            "OrderNumber          object\n",
            "Sales Channel        object\n",
            "WarehouseCode        object\n",
            "ProcuredDate         object\n",
            "OrderDate            object\n",
            "ShipDate             object\n",
            "DeliveryDate         object\n",
            "CurrencyCode         object\n",
            "_SalesTeamID          int64\n",
            "_CustomerID           int64\n",
            "_StoreID              int64\n",
            "_ProductID            int64\n",
            "Order Quantity        int64\n",
            "Discount Applied    float64\n",
            "Unit Price           object\n",
            "Unit Cost            object\n",
            "dtype: object\n"
          ]
        }
      ]
    },
    {
      "cell_type": "code",
      "source": [
        "# Remove commas and convert to numeric\n",
        "for col in ['Unit Price', 'Unit Cost']:\n",
        "    df[col] = df[col].str.replace(',', '', regex=False)  # Remove commas\n",
        "    df[col] = pd.to_numeric(df[col], errors='coerce')   # Convert to numeric\n",
        "\n",
        "# Display the updated DataFrame\n",
        "print(df)\n",
        "print(df.dtypes)  # Check the data types"
      ],
      "metadata": {
        "colab": {
          "base_uri": "https://localhost:8080/"
        },
        "id": "cY7adPeQdLhn",
        "outputId": "4995e026-b8fe-452e-c875-e0dbdcbfcb08"
      },
      "execution_count": null,
      "outputs": [
        {
          "output_type": "stream",
          "name": "stdout",
          "text": [
            "       OrderNumber Sales Channel WarehouseCode ProcuredDate   OrderDate  \\\n",
            "0      SO - 000101      In-Store  WARE-UHY1004   2017-12-31  2018-05-31   \n",
            "1      SO - 000102        Online  WARE-NMK1003   2017-12-31  2018-05-31   \n",
            "2      SO - 000103   Distributor  WARE-UHY1004   2017-12-31  2018-05-31   \n",
            "3      SO - 000104     Wholesale  WARE-NMK1003   2017-12-31  2018-05-31   \n",
            "4      SO - 000105   Distributor  WARE-NMK1003   2018-04-10  2018-05-31   \n",
            "...            ...           ...           ...          ...         ...   \n",
            "7986  SO - 0008087      In-Store  WARE-MKL1006   2020-09-26  2020-12-30   \n",
            "7987  SO - 0008088        Online  WARE-NMK1003   2020-09-26  2020-12-30   \n",
            "7988  SO - 0008089        Online  WARE-UHY1004   2020-09-26  2020-12-30   \n",
            "7989  SO - 0008090        Online  WARE-NMK1003   2020-09-26  2020-12-30   \n",
            "7990  SO - 0008091      In-Store  WARE-UHY1004   2020-09-26  2020-12-30   \n",
            "\n",
            "        ShipDate DeliveryDate CurrencyCode  _SalesTeamID  _CustomerID  \\\n",
            "0     2018-06-14   2018-06-19          USD             6           15   \n",
            "1     2018-06-22   2018-07-02          USD            14           20   \n",
            "2     2018-06-21   2018-07-01          USD            21           16   \n",
            "3     2018-06-02   2018-06-07          USD            28           48   \n",
            "4     2018-06-16   2018-06-26          USD            22           49   \n",
            "...          ...          ...          ...           ...          ...   \n",
            "7986  2021-01-07   2021-01-14          USD             9           41   \n",
            "7987  2021-01-02   2021-01-04          USD            14           29   \n",
            "7988  2021-01-23   2021-01-26          USD            14           32   \n",
            "7989  2021-01-20   2021-01-25          USD            20           42   \n",
            "7990  2021-01-13   2021-01-19          USD             6           41   \n",
            "\n",
            "      _StoreID  _ProductID  Order Quantity  Discount Applied  Unit Price  \\\n",
            "0          259          12               5             0.075      1963.1   \n",
            "1          196          27               3             0.075      3939.6   \n",
            "2          213          16               1             0.050      1775.5   \n",
            "3          107          23               8             0.075      2324.9   \n",
            "4          111          26               8             0.100      1822.4   \n",
            "...        ...         ...             ...               ...         ...   \n",
            "7986       339          29               1             0.075       234.5   \n",
            "7987       202           3               6             0.050      3202.6   \n",
            "7988       241          35               5             0.200      3825.7   \n",
            "7989       112          36               8             0.100      1072.0   \n",
            "7990       237          43               5             0.075      2211.0   \n",
            "\n",
            "      Unit Cost  \n",
            "0       1001.18  \n",
            "1       3348.66  \n",
            "2        781.22  \n",
            "3       1464.69  \n",
            "4       1476.14  \n",
            "...         ...  \n",
            "7986     121.94  \n",
            "7987    1921.56  \n",
            "7988    2792.76  \n",
            "7989     804.00  \n",
            "7990    1370.82  \n",
            "\n",
            "[7991 rows x 16 columns]\n",
            "OrderNumber          object\n",
            "Sales Channel        object\n",
            "WarehouseCode        object\n",
            "ProcuredDate         object\n",
            "OrderDate            object\n",
            "ShipDate             object\n",
            "DeliveryDate         object\n",
            "CurrencyCode         object\n",
            "_SalesTeamID          int64\n",
            "_CustomerID           int64\n",
            "_StoreID              int64\n",
            "_ProductID            int64\n",
            "Order Quantity        int64\n",
            "Discount Applied    float64\n",
            "Unit Price          float64\n",
            "Unit Cost           float64\n",
            "dtype: object\n"
          ]
        }
      ]
    },
    {
      "cell_type": "code",
      "source": [
        "# Assuming df is your cleaned DataFrame\n",
        "output_file = 'cleaned_Sales.csv'  # Specify your desired file name\n",
        "\n",
        "# Save the DataFrame to a CSV file\n",
        "df.to_csv(output_file, index=False)  # index=False to avoid saving the index as a column\n",
        "\n",
        "print(f\"Cleaned data has been saved to {output_file}.\")"
      ],
      "metadata": {
        "colab": {
          "base_uri": "https://localhost:8080/"
        },
        "id": "ez45RJLFgC06",
        "outputId": "bdf4d187-e01d-4faa-feb9-23770f8a3648"
      },
      "execution_count": null,
      "outputs": [
        {
          "output_type": "stream",
          "name": "stdout",
          "text": [
            "Cleaned data has been saved to cleaned_Sales.csv.\n"
          ]
        }
      ]
    },
    {
      "cell_type": "code",
      "source": [
        "import os\n",
        "\n",
        "# Get the current working directory\n",
        "current_directory = os.getcwd()\n",
        "print(f\"The current working directory is: {current_directory}\")"
      ],
      "metadata": {
        "id": "P_pjdPb9gZjF",
        "outputId": "d37b0df7-a0c4-408d-d33a-b75301c9f458",
        "colab": {
          "base_uri": "https://localhost:8080/"
        }
      },
      "execution_count": null,
      "outputs": [
        {
          "output_type": "stream",
          "name": "stdout",
          "text": [
            "The current working directory is: /content\n"
          ]
        }
      ]
    }
  ]
}